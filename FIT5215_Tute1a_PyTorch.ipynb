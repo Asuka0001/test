{
 "cells": [
  {
   "cell_type": "markdown",
   "metadata": {
    "id": "ap0jPCHTIyui"
   },
   "source": [
    "# <span style=\"color:#0b486b\">  FIT3181/5215: Deep Learning (2024)</span>\n",
    "***\n",
    "*CE/Lecturer (Clayton):*  **Dr Trung Le** | trunglm@monash.edu <br/>\n",
    "*Lecturer (Clayton):* **Prof Dinh Phung** | dinh.phung@monash.edu <br/>\n",
    "*Lecturer (Malaysia):*  **Dr Arghya Pal** | arghya.pal@monash.edu <br/>\n",
    "*Lecturer (Malaysia):*  **Dr Lim Chern Hong** | lim.chernhong@monash.edu <br/>  <br/>\n",
    "*Head Tutor 3181:*  **Miss Vy Vo** |  \\[tran.vo@monash.edu \\] <br/>\n",
    "*Head Tutor 5215:*  **Dr Van Nguyen** |  \\[van.nguyen1@monash.edu \\]\n",
    "\n",
    "<br/> <br/>\n",
    "Faculty of Information Technology, Monash University, Australia\n",
    "***"
   ]
  },
  {
   "cell_type": "markdown",
   "metadata": {
    "id": "Knf1FF97JBXz"
   },
   "source": [
    "# Tutorial 1a: Introduction to PyTorch\n",
    "\n",
    "\n",
    "`Acknowledgement:` This tutorial is developed based on [this Google Colab tutorial](https://colab.research.google.com/github/mrdbourke/pytorch-deep-learning/blob/main/00_pytorch_fundamentals.ipynb#scrollTo=XFVEgrKhTGfD)."
   ]
  },
  {
   "cell_type": "markdown",
   "metadata": {
    "id": "TIqOg2TTJlE_"
   },
   "source": [
    "## Importing PyTorch\n",
    "\n",
    "Let's start by importing PyTorch and checking its version."
   ]
  },
  {
   "cell_type": "code",
   "execution_count": 1,
   "metadata": {},
   "outputs": [],
   "source": [
    "#pip install torch\n"
   ]
  },
  {
   "cell_type": "code",
   "execution_count": 2,
   "metadata": {},
   "outputs": [],
   "source": [
    "#pip install numpy\n"
   ]
  },
  {
   "cell_type": "code",
   "execution_count": 3,
   "metadata": {},
   "outputs": [],
   "source": [
    "\n",
    "#pip install torch --upgrade"
   ]
  },
  {
   "cell_type": "code",
   "execution_count": 4,
   "metadata": {
    "colab": {
     "base_uri": "https://localhost:8080/",
     "height": 35
    },
    "id": "yzoYQLXQJ0eD",
    "outputId": "891b9411-43d5-451e-de53-b687b39beeba"
   },
   "outputs": [
    {
     "name": "stdout",
     "output_type": "stream",
     "text": [
      "2.1.2\n"
     ]
    }
   ],
   "source": [
    "import torch\n",
    "torch.__version__\n",
    "import numpy\n",
    "print(numpy.__version__)\n"
   ]
  },
  {
   "cell_type": "markdown",
   "metadata": {
    "id": "6WBCEgeQJ9MP"
   },
   "source": [
    "## Introduction to Tensors\n",
    "\n",
    "First, we create a `scalar` with the value `7`."
   ]
  },
  {
   "cell_type": "code",
   "execution_count": 5,
   "metadata": {
    "colab": {
     "base_uri": "https://localhost:8080/"
    },
    "id": "wXDq0mTkKcMj",
    "outputId": "b3088c78-eac1-4b99-d0e9-98c6ad53624f"
   },
   "outputs": [
    {
     "data": {
      "text/plain": [
       "tensor(7)"
      ]
     },
     "execution_count": 5,
     "metadata": {},
     "output_type": "execute_result"
    }
   ],
   "source": [
    "scalar = torch.tensor(7)\n",
    "scalar"
   ]
  },
  {
   "cell_type": "code",
   "execution_count": 6,
   "metadata": {
    "colab": {
     "base_uri": "https://localhost:8080/"
    },
    "id": "Ihsw3uICcDpb",
    "outputId": "bf8f1202-37e1-47f3-9ac1-f981ace9ffc1"
   },
   "outputs": [
    {
     "name": "stdout",
     "output_type": "stream",
     "text": [
      "7\n"
     ]
    }
   ],
   "source": [
    "print(scalar.item())"
   ]
  },
  {
   "cell_type": "code",
   "execution_count": 7,
   "metadata": {
    "id": "KdXMlI15bDHb"
   },
   "outputs": [],
   "source": [
    "#pip install numpy --upgrade\n"
   ]
  },
  {
   "cell_type": "code",
   "execution_count": 8,
   "metadata": {},
   "outputs": [
    {
     "name": "stdout",
     "output_type": "stream",
     "text": [
      "2.1.2\n"
     ]
    }
   ],
   "source": [
    "import numpy as np\n",
    "print(np.__version__)"
   ]
  },
  {
   "cell_type": "markdown",
   "metadata": {
    "id": "2xTugQCvcUdN"
   },
   "source": [
    "We now create an `1D` vector"
   ]
  },
  {
   "cell_type": "code",
   "execution_count": 9,
   "metadata": {
    "colab": {
     "base_uri": "https://localhost:8080/"
    },
    "id": "sN3313pPdBnW",
    "outputId": "660002e8-ea61-4ef0-f0ac-2b998b621898"
   },
   "outputs": [
    {
     "data": {
      "text/plain": [
       "tensor([1., 2., 3., 4.])"
      ]
     },
     "execution_count": 9,
     "metadata": {},
     "output_type": "execute_result"
    }
   ],
   "source": [
    "vector = torch.tensor([1.0,2,3,4])\n",
    "vector"
   ]
  },
  {
   "cell_type": "code",
   "execution_count": 10,
   "metadata": {
    "colab": {
     "base_uri": "https://localhost:8080/"
    },
    "id": "EFeSHS3A_I2K",
    "outputId": "df966800-6bf4-4a96-c2ee-69d2ff9314b7"
   },
   "outputs": [
    {
     "data": {
      "text/plain": [
       "torch.float32"
      ]
     },
     "execution_count": 10,
     "metadata": {},
     "output_type": "execute_result"
    }
   ],
   "source": [
    "vector.dtype"
   ]
  },
  {
   "cell_type": "markdown",
   "metadata": {
    "id": "j8tndibafrVd"
   },
   "source": [
    "We create an `2D` tensor or a matrix."
   ]
  },
  {
   "cell_type": "code",
   "execution_count": 11,
   "metadata": {
    "colab": {
     "base_uri": "https://localhost:8080/"
    },
    "id": "__DlBalPeChq",
    "outputId": "1547922d-973b-4616-9c17-8254d38ca487"
   },
   "outputs": [
    {
     "data": {
      "text/plain": [
       "tensor([[1, 2, 3],\n",
       "        [4, 5, 6]])"
      ]
     },
     "execution_count": 11,
     "metadata": {},
     "output_type": "execute_result"
    }
   ],
   "source": [
    "matrix = torch.tensor([[1,2,3],[4,5,6]])\n",
    "matrix"
   ]
  },
  {
   "cell_type": "code",
   "execution_count": 12,
   "metadata": {
    "colab": {
     "base_uri": "https://localhost:8080/"
    },
    "id": "BvMJlWKEf9sr",
    "outputId": "fad5eaa7-05d1-485d-d2e7-da198192bd45"
   },
   "outputs": [
    {
     "name": "stdout",
     "output_type": "stream",
     "text": [
      "dim=2, shape=torch.Size([2, 3])\n"
     ]
    }
   ],
   "source": [
    "print(f\"dim={matrix.ndim}, shape={matrix.shape}\")"
   ]
  },
  {
   "cell_type": "code",
   "execution_count": 13,
   "metadata": {},
   "outputs": [
    {
     "name": "stdout",
     "output_type": "stream",
     "text": [
      "tensor([1, 2, 3, 4])\n"
     ]
    }
   ],
   "source": [
    "import numpy as np\n",
    "import torch\n",
    "\n",
    "# 创建一个 NumPy 数组\n",
    "npArray = np.array([1, 2, 3, 4])\n",
    "\n",
    "# 将 NumPy 数组转换为 PyTorch 张量\n",
    "torchArray = torch.from_numpy(npArray)\n",
    "print(torchArray)\n"
   ]
  },
  {
   "cell_type": "code",
   "execution_count": 14,
   "metadata": {
    "colab": {
     "base_uri": "https://localhost:8080/"
    },
    "id": "_E098BvZV7NJ",
    "outputId": "cdcb8603-7436-4398-dc54-beb4fb9e7966"
   },
   "outputs": [
    {
     "name": "stdout",
     "output_type": "stream",
     "text": [
      "[[1 2 3]\n",
      " [4 5 6]]\n"
     ]
    }
   ],
   "source": [
    "print(matrix.numpy())"
   ]
  },
  {
   "cell_type": "code",
   "execution_count": 15,
   "metadata": {
    "colab": {
     "base_uri": "https://localhost:8080/"
    },
    "id": "lLrklV1rglOM",
    "outputId": "b4367165-30fc-4d3a-fc19-414a46ca6989"
   },
   "outputs": [
    {
     "name": "stdout",
     "output_type": "stream",
     "text": [
      "torch.float32\n"
     ]
    }
   ],
   "source": [
    "print(vector.dtype)"
   ]
  },
  {
   "cell_type": "markdown",
   "metadata": {
    "id": "NR_rxEcN8ieG"
   },
   "source": [
    "## Create Tensors in PyTorch"
   ]
  },
  {
   "cell_type": "markdown",
   "metadata": {
    "id": "CbbU32bO8Wrw"
   },
   "source": [
    "### Initialize Random Tensors"
   ]
  },
  {
   "cell_type": "code",
   "execution_count": 16,
   "metadata": {
    "colab": {
     "base_uri": "https://localhost:8080/"
    },
    "id": "q8tzXUBN8sNk",
    "outputId": "4d39ac60-dd58-4e3f-8c26-dfe86565dfc1"
   },
   "outputs": [
    {
     "data": {
      "text/plain": [
       "tensor([[[0.8671, 0.6041, 0.0032],\n",
       "         [0.1688, 0.9740, 0.8464],\n",
       "         [0.5408, 0.8625, 0.4586],\n",
       "         ...,\n",
       "         [0.0051, 0.8545, 0.7886],\n",
       "         [0.5220, 0.4516, 0.7682],\n",
       "         [0.7985, 0.0645, 0.2917]],\n",
       "\n",
       "        [[0.8291, 0.4750, 0.3608],\n",
       "         [0.3318, 0.9855, 0.2473],\n",
       "         [0.3604, 0.7591, 0.2325],\n",
       "         ...,\n",
       "         [0.2630, 0.0972, 0.2758],\n",
       "         [0.3300, 0.0653, 0.4471],\n",
       "         [0.2132, 0.6822, 0.8541]],\n",
       "\n",
       "        [[0.6329, 0.3897, 0.0701],\n",
       "         [0.2480, 0.8905, 0.7293],\n",
       "         [0.1292, 0.1496, 0.6131],\n",
       "         ...,\n",
       "         [0.6976, 0.7953, 0.5592],\n",
       "         [0.8698, 0.4186, 0.0213],\n",
       "         [0.1982, 0.0368, 0.8294]],\n",
       "\n",
       "        ...,\n",
       "\n",
       "        [[0.3630, 0.4818, 0.6612],\n",
       "         [0.1473, 0.9571, 0.1229],\n",
       "         [0.1520, 0.8698, 0.5387],\n",
       "         ...,\n",
       "         [0.2131, 0.1291, 0.5984],\n",
       "         [0.6303, 0.9655, 0.6372],\n",
       "         [0.9229, 0.0522, 0.3720]],\n",
       "\n",
       "        [[0.8125, 0.3097, 0.5932],\n",
       "         [0.2355, 0.0687, 0.3462],\n",
       "         [0.9310, 0.2182, 0.1701],\n",
       "         ...,\n",
       "         [0.5717, 0.0610, 0.3840],\n",
       "         [0.9011, 0.9549, 0.0224],\n",
       "         [0.0762, 0.6882, 0.9256]],\n",
       "\n",
       "        [[0.9456, 0.0551, 0.4367],\n",
       "         [0.1278, 0.1319, 0.1809],\n",
       "         [0.9752, 0.1818, 0.5221],\n",
       "         ...,\n",
       "         [0.1878, 0.1736, 0.8667],\n",
       "         [0.1826, 0.1069, 0.0652],\n",
       "         [0.0333, 0.0270, 0.4448]]])"
      ]
     },
     "execution_count": 16,
     "metadata": {},
     "output_type": "execute_result"
    }
   ],
   "source": [
    "randImage = torch.rand(size=(224,224,3))\n",
    "randImage"
   ]
  },
  {
   "cell_type": "code",
   "execution_count": 17,
   "metadata": {
    "colab": {
     "base_uri": "https://localhost:8080/"
    },
    "id": "0XwgIY4a9Gcb",
    "outputId": "dfbb43ef-b3a8-4ef9-a474-3ca57d326598"
   },
   "outputs": [
    {
     "name": "stdout",
     "output_type": "stream",
     "text": [
      "Shape: torch.Size([224, 224, 3]), ndim = 3, height= 224, width = 224, depth = 3\n"
     ]
    }
   ],
   "source": [
    "print(f\"Shape: {randImage.shape}, ndim = {randImage.ndim}, height= {randImage.shape[0]}, width = {randImage.shape[1]}, depth = {randImage.shape[2]}\")"
   ]
  },
  {
   "cell_type": "markdown",
   "metadata": {
    "id": "anJIQYOs9zmQ"
   },
   "source": [
    "### Create One, Zero Tensors"
   ]
  },
  {
   "cell_type": "code",
   "execution_count": 18,
   "metadata": {
    "colab": {
     "base_uri": "https://localhost:8080/"
    },
    "id": "OepHRNJo9NjB",
    "outputId": "ce653cee-4e8e-4c5d-c892-fc90fcb2dd75"
   },
   "outputs": [
    {
     "data": {
      "text/plain": [
       "tensor([[1., 1., 1.],\n",
       "        [1., 1., 1.]])"
      ]
     },
     "execution_count": 18,
     "metadata": {},
     "output_type": "execute_result"
    }
   ],
   "source": [
    "ones = torch.ones(size= (2,3))\n",
    "ones"
   ]
  },
  {
   "cell_type": "code",
   "execution_count": 19,
   "metadata": {
    "colab": {
     "base_uri": "https://localhost:8080/"
    },
    "id": "QrU-sNKp9-xY",
    "outputId": "80f6ca1b-42ea-4527-8ba3-868cf64101fc"
   },
   "outputs": [
    {
     "data": {
      "text/plain": [
       "tensor([[0., 0., 0.],\n",
       "        [0., 0., 0.]])"
      ]
     },
     "execution_count": 19,
     "metadata": {},
     "output_type": "execute_result"
    }
   ],
   "source": [
    "zeros = torch.zeros(size = (2,3))\n",
    "zeros"
   ]
  },
  {
   "cell_type": "code",
   "execution_count": 20,
   "metadata": {
    "colab": {
     "base_uri": "https://localhost:8080/"
    },
    "id": "rt0fQp6f-QIH",
    "outputId": "1fe44039-daeb-43e4-d158-61e7241a3ed1"
   },
   "outputs": [
    {
     "data": {
      "text/plain": [
       "tensor([[1., 1., 1.],\n",
       "        [1., 1., 1.]])"
      ]
     },
     "execution_count": 20,
     "metadata": {},
     "output_type": "execute_result"
    }
   ],
   "source": [
    "ones_like = torch.ones_like(zeros)\n",
    "ones_like"
   ]
  },
  {
   "cell_type": "code",
   "execution_count": 21,
   "metadata": {
    "colab": {
     "base_uri": "https://localhost:8080/"
    },
    "id": "CYM3OMPCdo8V",
    "outputId": "898e1db5-c8f1-4f59-c761-756a01a6b8ab"
   },
   "outputs": [
    {
     "data": {
      "text/plain": [
       "tensor([[0., 0., 0.],\n",
       "        [0., 0., 0.]])"
      ]
     },
     "execution_count": 21,
     "metadata": {},
     "output_type": "execute_result"
    }
   ],
   "source": [
    "zeros_like = torch.zeros_like(ones)\n",
    "zeros_like"
   ]
  },
  {
   "cell_type": "markdown",
   "metadata": {
    "id": "ZvJMTBC8eMK3"
   },
   "source": [
    "### Create a Range and Reshape"
   ]
  },
  {
   "cell_type": "code",
   "execution_count": 22,
   "metadata": {
    "colab": {
     "base_uri": "https://localhost:8080/"
    },
    "id": "Ekuo621id1QR",
    "outputId": "7e63fc9f-fc02-4548-daef-b57e7870d505"
   },
   "outputs": [
    {
     "data": {
      "text/plain": [
       "tensor([0.1000, 0.3000, 0.5000, 0.7000, 0.9000, 1.1000, 1.3000, 1.5000, 1.7000,\n",
       "        1.9000, 2.1000, 2.3000, 2.5000, 2.7000, 2.9000, 3.1000, 3.3000, 3.5000,\n",
       "        3.7000, 3.9000, 4.1000, 4.3000, 4.5000, 4.7000, 4.9000])"
      ]
     },
     "execution_count": 22,
     "metadata": {},
     "output_type": "execute_result"
    }
   ],
   "source": [
    "aRange = torch.arange(start = 0.1, end = 5.0, step = 0.2)\n",
    "aRange"
   ]
  },
  {
   "cell_type": "code",
   "execution_count": 23,
   "metadata": {
    "colab": {
     "base_uri": "https://localhost:8080/"
    },
    "id": "G34Dr1s1em9b",
    "outputId": "863fb8d3-9d53-4fa7-b7c4-9d7c866343ca"
   },
   "outputs": [
    {
     "data": {
      "text/plain": [
       "tensor([[0.1000, 0.3000, 0.5000, 0.7000, 0.9000],\n",
       "        [1.1000, 1.3000, 1.5000, 1.7000, 1.9000],\n",
       "        [2.1000, 2.3000, 2.5000, 2.7000, 2.9000],\n",
       "        [3.1000, 3.3000, 3.5000, 3.7000, 3.9000],\n",
       "        [4.1000, 4.3000, 4.5000, 4.7000, 4.9000]])"
      ]
     },
     "execution_count": 23,
     "metadata": {},
     "output_type": "execute_result"
    }
   ],
   "source": [
    "matrix = aRange.reshape(shape = (5,5))\n",
    "matrix"
   ]
  },
  {
   "cell_type": "markdown",
   "metadata": {
    "id": "haxzm1lrfLSk"
   },
   "source": [
    "### From NumPy Arrays\n",
    "\n",
    "We first import `numpy` and then create a numpy array."
   ]
  },
  {
   "cell_type": "code",
   "execution_count": 24,
   "metadata": {
    "id": "0fEUbX8iev7x"
   },
   "outputs": [],
   "source": [
    "import numpy as np"
   ]
  },
  {
   "cell_type": "code",
   "execution_count": 25,
   "metadata": {
    "colab": {
     "base_uri": "https://localhost:8080/"
    },
    "id": "yulQAjDbfViM",
    "outputId": "3f2d00d3-5efd-43f2-8541-ce7c26834fa7"
   },
   "outputs": [
    {
     "data": {
      "text/plain": [
       "array([ 1.,  2.,  3.,  4.,  5.,  6.,  7.,  8.,  9., 10., 11., 12., 13.,\n",
       "       14., 15., 16., 17., 18., 19., 20.], dtype=float32)"
      ]
     },
     "execution_count": 25,
     "metadata": {},
     "output_type": "execute_result"
    }
   ],
   "source": [
    "npArray = np.arange(1,21, dtype = np.float32)\n",
    "npArray"
   ]
  },
  {
   "cell_type": "markdown",
   "metadata": {
    "id": "MBTAPfXZ_rbK"
   },
   "source": [
    "We reshape the above numpy array to `(5,5)`"
   ]
  },
  {
   "cell_type": "code",
   "execution_count": 26,
   "metadata": {
    "colab": {
     "base_uri": "https://localhost:8080/"
    },
    "id": "ZshSnzBRf3he",
    "outputId": "fc07c848-8dd9-4910-b2a1-7712a5e4fa63"
   },
   "outputs": [
    {
     "data": {
      "text/plain": [
       "array([[ 1.,  2.,  3.,  4.],\n",
       "       [ 5.,  6.,  7.,  8.],\n",
       "       [ 9., 10., 11., 12.],\n",
       "       [13., 14., 15., 16.],\n",
       "       [17., 18., 19., 20.]], dtype=float32)"
      ]
     },
     "execution_count": 26,
     "metadata": {},
     "output_type": "execute_result"
    }
   ],
   "source": [
    "npArray = npArray.reshape((5,-1))\n",
    "npArray"
   ]
  },
  {
   "cell_type": "markdown",
   "metadata": {
    "id": "e5pujLa1_4x0"
   },
   "source": [
    "We create a torch array or tensor from the numpy array using the method `torch.from_numpy()`."
   ]
  },
  {
   "cell_type": "code",
   "execution_count": 27,
   "metadata": {
    "colab": {
     "base_uri": "https://localhost:8080/"
    },
    "id": "A-gfoIIEgCu8",
    "outputId": "5e398078-2536-4d6d-8c6a-7fa8496a11ad"
   },
   "outputs": [
    {
     "data": {
      "text/plain": [
       "tensor([[ 1.,  2.,  3.,  4.],\n",
       "        [ 5.,  6.,  7.,  8.],\n",
       "        [ 9., 10., 11., 12.],\n",
       "        [13., 14., 15., 16.],\n",
       "        [17., 18., 19., 20.]])"
      ]
     },
     "execution_count": 27,
     "metadata": {},
     "output_type": "execute_result"
    }
   ],
   "source": [
    "torchArray = torch.from_numpy(npArray)\n",
    "torchArray"
   ]
  },
  {
   "cell_type": "markdown",
   "metadata": {
    "id": "9NYr6Bw5AQl5"
   },
   "source": [
    "We cast the float Torch tensor to the integer one."
   ]
  },
  {
   "cell_type": "code",
   "execution_count": 28,
   "metadata": {
    "colab": {
     "base_uri": "https://localhost:8080/"
    },
    "id": "b8EkZLY4gcfZ",
    "outputId": "f7d38f27-86da-4dad-e635-10c905ac49a5"
   },
   "outputs": [
    {
     "data": {
      "text/plain": [
       "tensor([[ 1,  2,  3,  4],\n",
       "        [ 5,  6,  7,  8],\n",
       "        [ 9, 10, 11, 12],\n",
       "        [13, 14, 15, 16],\n",
       "        [17, 18, 19, 20]], dtype=torch.int16)"
      ]
     },
     "execution_count": 28,
     "metadata": {},
     "output_type": "execute_result"
    }
   ],
   "source": [
    "torchArray = torchArray.type(torch.int16)\n",
    "torchArray"
   ]
  },
  {
   "cell_type": "code",
   "execution_count": 29,
   "metadata": {
    "colab": {
     "base_uri": "https://localhost:8080/"
    },
    "id": "PwzvkKx1grbP",
    "outputId": "81cc687d-4e45-4762-e340-baa09791f949"
   },
   "outputs": [
    {
     "name": "stdout",
     "output_type": "stream",
     "text": [
      "[[ 1  2  3  4]\n",
      " [ 5  6  7  8]\n",
      " [ 9 10 11 12]\n",
      " [13 14 15 16]\n",
      " [17 18 19 20]]\n"
     ]
    }
   ],
   "source": [
    "print(torchArray.numpy())"
   ]
  },
  {
   "cell_type": "markdown",
   "metadata": {
    "id": "RM0MfFD7jNaK"
   },
   "source": [
    "## Tensor datatypes\n",
    "\n",
    "There are many different [tensor datatypes available in PyTorch](https://pytorch.org/docs/stable/tensors.html#data-types). Some are specific for CPU and some are better for GPU. Getting to know which is which can take some time.\n",
    "\n",
    "Generally if you see `torch.cuda` anywhere, the tensor is being used for GPU (since Nvidia GPUs use a computing toolkit called CUDA).\n",
    "\n",
    "The most common type (and generally the default) is `torch.float32` or `torch.float`. This is referred to as \"32-bit floating point\". But there are also 16-bit floating point (`torch.float16` or `torch.half`) and 64-bit floating point (`torch.float64` or `torch.double`). And to confuse things even more there's also 8-bit, 16-bit, 32-bit and 64-bit integers.\n"
   ]
  },
  {
   "cell_type": "code",
   "execution_count": 30,
   "metadata": {
    "colab": {
     "base_uri": "https://localhost:8080/"
    },
    "id": "Q_p9SVMWgxTW",
    "outputId": "a28b8226-c4e6-469a-cb69-95bb9f99a067"
   },
   "outputs": [
    {
     "data": {
      "text/plain": [
       "(torch.Size([3]), torch.float32, device(type='cpu'))"
      ]
     },
     "execution_count": 30,
     "metadata": {},
     "output_type": "execute_result"
    }
   ],
   "source": [
    "# Default datatype for tensors is float32\n",
    "float_32_tensor = torch.tensor([3.0, 6.0, 9.0],\n",
    "                               dtype=None, # defaults to None, which is torch.float32 or whatever datatype is passed\n",
    "                               device=None, # defaults to None, which uses the default tensor type\n",
    "                               requires_grad=False) # if True, operations performed on the tensor are recorded\n",
    "\n",
    "float_32_tensor.shape, float_32_tensor.dtype, float_32_tensor.device"
   ]
  },
  {
   "cell_type": "code",
   "execution_count": 31,
   "metadata": {
    "colab": {
     "base_uri": "https://localhost:8080/"
    },
    "id": "5kbx8kvbjziz",
    "outputId": "024ca4f9-5543-4545-803f-7e4b49ac1686"
   },
   "outputs": [
    {
     "data": {
      "text/plain": [
       "torch.float16"
      ]
     },
     "execution_count": 31,
     "metadata": {},
     "output_type": "execute_result"
    }
   ],
   "source": [
    "float_16_tensor = torch.tensor([3.0, 6.0, 9.0],\n",
    "                               dtype=torch.float16) # torch.half would also work\n",
    "\n",
    "float_16_tensor.dtype"
   ]
  },
  {
   "cell_type": "markdown",
   "metadata": {
    "id": "QJyvYXB4kGJ1"
   },
   "source": [
    "## Getting information from tensors\n",
    "\n",
    "Once you've created tensors (or someone else or a PyTorch module has created them for you), you might want to get some information from them.\n",
    "\n",
    "We've seen these before but three of the most common attributes you'll want to find out about tensors are:\n",
    "* `shape` - what shape is the tensor? (some operations require specific shape rules)\n",
    "* `dtype` - what datatype are the elements within the tensor stored in?\n",
    "* `device` - what device is the tensor stored on? (usually GPU or CPU)\n",
    "\n",
    "Let's create a random tensor and find out details about it."
   ]
  },
  {
   "cell_type": "code",
   "execution_count": 32,
   "metadata": {
    "colab": {
     "base_uri": "https://localhost:8080/"
    },
    "id": "whCUcX8Gj4LT",
    "outputId": "30def2a9-8edb-4ac0-9ded-9496f1f8242d"
   },
   "outputs": [
    {
     "name": "stdout",
     "output_type": "stream",
     "text": [
      "tensor([[0.4482, 0.0925, 0.6997, 0.9241],\n",
      "        [0.6941, 0.5409, 0.2353, 0.3448],\n",
      "        [0.6278, 0.5580, 0.4385, 0.7544]])\n",
      "Shape of tensor: torch.Size([3, 4])\n",
      "Datatype of tensor: torch.float32\n",
      "Device tensor is stored on: cpu\n"
     ]
    }
   ],
   "source": [
    "# Create a tensor\n",
    "some_tensor = torch.rand(3, 4)\n",
    "\n",
    "# Find out details about it\n",
    "print(some_tensor)\n",
    "print(f\"Shape of tensor: {some_tensor.shape}\")\n",
    "print(f\"Datatype of tensor: {some_tensor.dtype}\")\n",
    "print(f\"Device tensor is stored on: {some_tensor.device}\") # will default to CPU"
   ]
  },
  {
   "cell_type": "markdown",
   "metadata": {
    "id": "8QFVAK1AvdgJ"
   },
   "source": [
    "## Manipulating tensors (tensor operations)\n",
    "\n",
    "In deep learning, data (images, text, video, audio, protein structures, etc) gets represented as tensors. A model learns by investigating those tensors and performing a series of operations (could be 1,000,000s+) on tensors to create a representation of the patterns in the input data.\n",
    "\n",
    "These operations are often a wonderful dance between:\n",
    "* Addition\n",
    "* Substraction\n",
    "* Multiplication (element-wise)\n",
    "* Division\n",
    "* Matrix multiplication\n",
    "\n",
    "And that's it. Sure there are a few more here and there but these are the basic building blocks of neural networks."
   ]
  },
  {
   "cell_type": "markdown",
   "metadata": {
    "id": "32GtvGJUvn3G"
   },
   "source": [
    "### Basic operations\n",
    "\n",
    "Let's start with a few of the fundamental operations, addition (`+`), subtraction (`-`), mutliplication (`*`)."
   ]
  },
  {
   "cell_type": "code",
   "execution_count": 33,
   "metadata": {
    "colab": {
     "base_uri": "https://localhost:8080/"
    },
    "id": "sq3vvAshlHjh",
    "outputId": "89234770-1296-45d4-c93f-0293809be45d"
   },
   "outputs": [
    {
     "data": {
      "text/plain": [
       "tensor([11, 12, 13])"
      ]
     },
     "execution_count": 33,
     "metadata": {},
     "output_type": "execute_result"
    }
   ],
   "source": [
    "# Create a tensor of values and add a number to it\n",
    "tensor = torch.tensor([1, 2, 3])\n",
    "tensor1 = tensor + 10\n",
    "tensor1"
   ]
  },
  {
   "cell_type": "code",
   "execution_count": 34,
   "metadata": {
    "colab": {
     "base_uri": "https://localhost:8080/"
    },
    "id": "ptxD5eBDvuiB",
    "outputId": "13d91538-b5b9-448a-e533-6978d04ca9a9"
   },
   "outputs": [
    {
     "data": {
      "text/plain": [
       "tensor([10, 20, 30])"
      ]
     },
     "execution_count": 34,
     "metadata": {},
     "output_type": "execute_result"
    }
   ],
   "source": [
    "# Multiply it by 10\n",
    "tensor2 = tensor * 10\n",
    "tensor2"
   ]
  },
  {
   "cell_type": "code",
   "execution_count": 35,
   "metadata": {
    "colab": {
     "base_uri": "https://localhost:8080/"
    },
    "id": "XD1nVUDAvxWl",
    "outputId": "cf8b5dac-4cdd-4e8c-8181-ff851ef50dbb"
   },
   "outputs": [
    {
     "data": {
      "text/plain": [
       "tensor([-9, -8, -7])"
      ]
     },
     "execution_count": 35,
     "metadata": {},
     "output_type": "execute_result"
    }
   ],
   "source": [
    "# Subtract and reassign\n",
    "tensor3 = tensor - 10\n",
    "tensor3"
   ]
  },
  {
   "cell_type": "markdown",
   "metadata": {
    "id": "jwxj30gOwbp-"
   },
   "source": [
    "PyTorch also has a bunch of built-in functions like [`torch.mul()`](https://pytorch.org/docs/stable/generated/torch.mul.html#torch.mul) (short for multiplication) and [`torch.add()`](https://pytorch.org/docs/stable/generated/torch.add.html) to perform basic operations."
   ]
  },
  {
   "cell_type": "code",
   "execution_count": 36,
   "metadata": {
    "colab": {
     "base_uri": "https://localhost:8080/"
    },
    "id": "HfxxB1UvwTuk",
    "outputId": "91be04b8-94ab-49f5-beba-f25ab6ce3c02"
   },
   "outputs": [
    {
     "data": {
      "text/plain": [
       "tensor([10, 20, 30])"
      ]
     },
     "execution_count": 36,
     "metadata": {},
     "output_type": "execute_result"
    }
   ],
   "source": [
    "# Can also use torch functions\n",
    "torch.multiply(tensor, 10)"
   ]
  },
  {
   "cell_type": "markdown",
   "metadata": {
    "id": "CO_lbbelwyNr"
   },
   "source": [
    "However, it's more common to use the operator symbols like `*` instead of `torch.mul()`"
   ]
  },
  {
   "cell_type": "code",
   "execution_count": 37,
   "metadata": {
    "colab": {
     "base_uri": "https://localhost:8080/"
    },
    "id": "FDe5FZFjwn0L",
    "outputId": "56bb7d14-3a46-43fe-c6ee-9241ee31c819"
   },
   "outputs": [
    {
     "name": "stdout",
     "output_type": "stream",
     "text": [
      "tensor([1, 2, 3]) * tensor([1, 2, 3])\n",
      "Equals: tensor([1, 4, 9])\n"
     ]
    }
   ],
   "source": [
    "# Element-wise multiplication (each element multiplies its equivalent, index 0->0, 1->1, 2->2)\n",
    "print(tensor, \"*\", tensor)\n",
    "print(\"Equals:\", tensor * tensor)"
   ]
  },
  {
   "cell_type": "markdown",
   "metadata": {
    "id": "KDoC_uTjxUw7"
   },
   "source": [
    "### Matrix multiplication (is all you need)\n",
    "\n",
    "One of the most common operations in machine learning and deep learning algorithms (like neural networks) is [matrix multiplication](https://www.mathsisfun.com/algebra/matrix-multiplying.html).\n",
    "\n",
    "PyTorch implements matrix multiplication functionality in the [`torch.matmul()`](https://pytorch.org/docs/stable/generated/torch.matmul.html) method.\n",
    "\n"
   ]
  },
  {
   "cell_type": "code",
   "execution_count": 38,
   "metadata": {
    "colab": {
     "base_uri": "https://localhost:8080/"
    },
    "id": "fNMQihXiw1Qd",
    "outputId": "03769a89-b47a-48b2-f9c1-ed5663b02333"
   },
   "outputs": [
    {
     "name": "stdout",
     "output_type": "stream",
     "text": [
      "A=tensor([[1., 2.],\n",
      "        [3., 4.],\n",
      "        [5., 6.]])\n",
      " shape = torch.Size([3, 2])\n"
     ]
    }
   ],
   "source": [
    "A = torch.arange(1,7, dtype = torch.float32).reshape((3,-1))\n",
    "print(f\"A={A}\\n shape = {A.shape}\")"
   ]
  },
  {
   "cell_type": "code",
   "execution_count": null,
   "metadata": {
    "id": "FfHvoHX9349b"
   },
   "outputs": [],
   "source": []
  },
  {
   "cell_type": "code",
   "execution_count": 39,
   "metadata": {
    "colab": {
     "base_uri": "https://localhost:8080/"
    },
    "id": "SXL582SoyGx5",
    "outputId": "7a189481-2ef3-4739-e1ca-6b82e9b30ad8"
   },
   "outputs": [
    {
     "name": "stdout",
     "output_type": "stream",
     "text": [
      "B=tensor([[0.1076, 0.2354, 0.7683, 0.7079],\n",
      "        [0.2171, 0.8813, 0.6849, 0.8444]])\n",
      " shape = torch.Size([2, 4])\n"
     ]
    }
   ],
   "source": [
    "B = torch.rand((2,4))\n",
    "print(f\"B={B}\\n shape = {B.shape}\")"
   ]
  },
  {
   "cell_type": "markdown",
   "metadata": {
    "id": "rU3f_97ZxSAj"
   },
   "source": [
    "Matrices `A` with the shape $3 \\times 2$ and `B` with the shape $2 \\times 4$ are compatible in dimension, so we can multiple them."
   ]
  },
  {
   "cell_type": "code",
   "execution_count": 40,
   "metadata": {
    "colab": {
     "base_uri": "https://localhost:8080/"
    },
    "id": "u0X0yHH9yxSI",
    "outputId": "48ca8a29-9751-4380-a019-21870940d238"
   },
   "outputs": [
    {
     "data": {
      "text/plain": [
       "tensor([[0.5419, 1.9979, 2.1382, 2.3968],\n",
       "        [1.1914, 4.2312, 5.0446, 5.5015],\n",
       "        [1.8408, 6.4645, 7.9511, 8.6062]])"
      ]
     },
     "execution_count": 40,
     "metadata": {},
     "output_type": "execute_result"
    }
   ],
   "source": [
    "C1 = torch.matmul(A,B)\n",
    "C1"
   ]
  },
  {
   "cell_type": "code",
   "execution_count": 41,
   "metadata": {
    "colab": {
     "base_uri": "https://localhost:8080/"
    },
    "id": "EZTg98EJy3In",
    "outputId": "aaf69f9e-c234-4556-ce10-089ab039eb08"
   },
   "outputs": [
    {
     "data": {
      "text/plain": [
       "tensor([[0.5419, 1.9979, 2.1382, 2.3968],\n",
       "        [1.1914, 4.2312, 5.0446, 5.5015],\n",
       "        [1.8408, 6.4645, 7.9511, 8.6062]])"
      ]
     },
     "execution_count": 41,
     "metadata": {},
     "output_type": "execute_result"
    }
   ],
   "source": [
    "C2 = A.matmul(B)\n",
    "C2"
   ]
  },
  {
   "cell_type": "code",
   "execution_count": 42,
   "metadata": {
    "colab": {
     "base_uri": "https://localhost:8080/"
    },
    "id": "75N6mEEwzELG",
    "outputId": "7055e666-eeb3-4e5e-e8e4-5b51178f9072"
   },
   "outputs": [
    {
     "data": {
      "text/plain": [
       "tensor([[0.5419, 1.9979, 2.1382, 2.3968],\n",
       "        [1.1914, 4.2312, 5.0446, 5.5015],\n",
       "        [1.8408, 6.4645, 7.9511, 8.6062]])"
      ]
     },
     "execution_count": 42,
     "metadata": {},
     "output_type": "execute_result"
    }
   ],
   "source": [
    "C3 = A@B\n",
    "C3"
   ]
  },
  {
   "cell_type": "markdown",
   "metadata": {
    "id": "Ikcp0kRXBjmd"
   },
   "source": [
    "`C1`, `C2`, and `C3` must be the same and we assert this."
   ]
  },
  {
   "cell_type": "code",
   "execution_count": 43,
   "metadata": {
    "id": "kA1vqtobzLTL"
   },
   "outputs": [],
   "source": [
    "assert torch.equal(C1,C2)\n",
    "assert torch.equal(C1,C3)"
   ]
  },
  {
   "cell_type": "markdown",
   "metadata": {
    "id": "M1nIGeZS0vBi"
   },
   "source": [
    "### One of the most common errors in deep learning (shape errors)\n",
    "\n",
    "Because much of deep learning is multiplying and performing operations on matrices and matrices have a strict rule about what shapes and sizes can be combined, one of the most common errors you'll run into in deep learning is shape mismatches."
   ]
  },
  {
   "cell_type": "code",
   "execution_count": 44,
   "metadata": {
    "colab": {
     "base_uri": "https://localhost:8080/",
     "height": 183
    },
    "id": "40bN80NXzPpK",
    "outputId": "ca019324-7001-4daf-c943-5d07e08c7931"
   },
   "outputs": [],
   "source": [
    "# Shapes need to be in the right way\n",
    "tensor_A = torch.tensor([[1, 2],\n",
    "                         [3, 4],\n",
    "                         [5, 6]], dtype=torch.float32)\n",
    "\n",
    "tensor_B = torch.tensor([[7, 10],\n",
    "                         [8, 11],\n",
    "                         [9, 12]], dtype=torch.float32)\n",
    "\n",
    "#torch.matmul(tensor_A, tensor_B) # (this will error)"
   ]
  },
  {
   "cell_type": "markdown",
   "metadata": {
    "id": "X8B5yO7e1VH_"
   },
   "source": [
    "To fix this, we need to transpose `tensor_B` before doing multiplication."
   ]
  },
  {
   "cell_type": "code",
   "execution_count": 45,
   "metadata": {
    "colab": {
     "base_uri": "https://localhost:8080/"
    },
    "id": "kL_nOSCS1QmL",
    "outputId": "6a16cbd6-0b6f-437c-a3d6-bfc2bac2d531"
   },
   "outputs": [
    {
     "data": {
      "text/plain": [
       "tensor([[ 27.,  30.,  33.],\n",
       "        [ 61.,  68.,  75.],\n",
       "        [ 95., 106., 117.]])"
      ]
     },
     "execution_count": 45,
     "metadata": {},
     "output_type": "execute_result"
    }
   ],
   "source": [
    "torch.matmul(tensor_A, tensor_B.T)"
   ]
  },
  {
   "cell_type": "markdown",
   "metadata": {
    "id": "8zN-OxFD20BC"
   },
   "source": [
    "### Linear Layer\n",
    "\n",
    "Neural networks are full of matrix multiplications and dot products.\n",
    "\n",
    "The [`torch.nn.Linear()`](https://pytorch.org/docs/1.9.1/generated/torch.nn.Linear.html) module (we'll see this in action later on), also known as a feed-forward layer or fully connected layer, implements a matrix multiplication between an input `x` and a weights matrix `W`.\n",
    "\n",
    "$$\n",
    "y = x\\cdot W + b\n",
    "$$\n"
   ]
  },
  {
   "cell_type": "code",
   "execution_count": 46,
   "metadata": {
    "colab": {
     "base_uri": "https://localhost:8080/"
    },
    "id": "PzEQ9v0a137G",
    "outputId": "7c8d9fd7-eb07-4c24-c4ed-3185d5f1ffd8"
   },
   "outputs": [
    {
     "name": "stdout",
     "output_type": "stream",
     "text": [
      "Input shape: torch.Size([3, 2])\n",
      "\n",
      "Output:\n",
      "tensor([[2.2368, 1.2292, 0.4714, 0.3864, 0.1309, 0.9838],\n",
      "        [4.4919, 2.1970, 0.4469, 0.5285, 0.3401, 2.4777],\n",
      "        [6.7469, 3.1648, 0.4224, 0.6705, 0.5493, 3.9716]],\n",
      "       grad_fn=<AddmmBackward0>)\n",
      "\n",
      "Output shape: torch.Size([3, 6])\n"
     ]
    }
   ],
   "source": [
    "# Since the linear layer starts with a random weights matrix, let's make it reproducible (more on this later)\n",
    "torch.manual_seed(42)\n",
    "# This uses matrix multiplication\n",
    "linear = torch.nn.Linear(in_features=2, # in_features = matches inner dimension of input\n",
    "                         out_features=6) # out_features = describes outer value\n",
    "x = tensor_A\n",
    "output = linear(x)\n",
    "print(f\"Input shape: {x.shape}\\n\")\n",
    "print(f\"Output:\\n{output}\\n\\nOutput shape: {output.shape}\")"
   ]
  },
  {
   "cell_type": "markdown",
   "metadata": {
    "id": "Uovt2zJx3rk_"
   },
   "source": [
    "### Finding the min, max, mean, sum, etc (aggregation)\n",
    "\n",
    "Now we've seen a few ways to manipulate tensors, let's run through a few ways to aggregate them (go from more values to less values).\n",
    "\n",
    "First we'll create a tensor and then find the max, min, mean and sum of it."
   ]
  },
  {
   "cell_type": "code",
   "execution_count": 47,
   "metadata": {
    "colab": {
     "base_uri": "https://localhost:8080/"
    },
    "id": "GtfEXFJs3Qup",
    "outputId": "149ce068-e106-41bd-c118-a511f60831bf"
   },
   "outputs": [
    {
     "data": {
      "text/plain": [
       "tensor([ 0, 10, 20, 30, 40, 50, 60, 70, 80, 90])"
      ]
     },
     "execution_count": 47,
     "metadata": {},
     "output_type": "execute_result"
    }
   ],
   "source": [
    "# Create a tensor\n",
    "x = torch.arange(0, 100, 10)\n",
    "x"
   ]
  },
  {
   "cell_type": "code",
   "execution_count": 48,
   "metadata": {
    "colab": {
     "base_uri": "https://localhost:8080/",
     "height": 245
    },
    "id": "pCy1MtyJ3OFf",
    "outputId": "2590fb09-3a87-45e1-c160-398a26f59001"
   },
   "outputs": [
    {
     "name": "stdout",
     "output_type": "stream",
     "text": [
      "Minimum: 0\n",
      "Maximum: 90\n",
      "Mean: 45.0\n",
      "Sum: 450\n"
     ]
    }
   ],
   "source": [
    "print(f\"Minimum: {x.min()}\")\n",
    "print(f\"Maximum: {x.max()}\")\n",
    "#print(f\"Mean: {x.mean()}\") # this will error\n",
    "print(f\"Mean: {x.type(torch.float32).mean()}\") # won't work without float datatype\n",
    "print(f\"Sum: {x.sum()}\")"
   ]
  },
  {
   "cell_type": "markdown",
   "metadata": {
    "id": "1OO0H3D44FZK"
   },
   "source": [
    " **Note:** You may find some methods such as `torch.mean()` require tensors to be in `torch.float32` (the most common) or another specific datatype, otherwise the operation will fail.\n",
    "\n",
    "You can also do the same as above with `torch` methods."
   ]
  },
  {
   "cell_type": "code",
   "execution_count": 49,
   "metadata": {
    "colab": {
     "base_uri": "https://localhost:8080/"
    },
    "id": "IT9-dvbL36Q9",
    "outputId": "0c72c770-470c-46f6-aecb-4cfadb859629"
   },
   "outputs": [
    {
     "data": {
      "text/plain": [
       "(tensor(90), tensor(0), tensor(45.), tensor(450))"
      ]
     },
     "execution_count": 49,
     "metadata": {},
     "output_type": "execute_result"
    }
   ],
   "source": [
    "torch.max(x), torch.min(x), torch.mean(x.type(torch.float32)), torch.sum(x)"
   ]
  },
  {
   "cell_type": "markdown",
   "metadata": {
    "id": "22ii41nL4QRC"
   },
   "source": [
    "You can also find the index of a tensor where the max or minimum occurs with [`torch.argmax()`](https://pytorch.org/docs/stable/generated/torch.argmax.html) and [`torch.argmin()`](https://pytorch.org/docs/stable/generated/torch.argmin.html) respectively.\n",
    "\n",
    "This is helpful incase you just want the position where the highest (or lowest) value is and not the actual value itself (we'll see this in a later section when using the [softmax activation function](https://pytorch.org/docs/stable/generated/torch.nn.Softmax.html))."
   ]
  },
  {
   "cell_type": "code",
   "execution_count": 50,
   "metadata": {
    "colab": {
     "base_uri": "https://localhost:8080/"
    },
    "id": "W4pIYtSC4KUT",
    "outputId": "125e3844-bcd1-45e0-ed71-1562f21161d2"
   },
   "outputs": [
    {
     "name": "stdout",
     "output_type": "stream",
     "text": [
      "Tensor: tensor([10, 20, 30, 40, 50, 60, 70, 80, 90])\n",
      "Index where max value occurs: 8\n",
      "Index where min value occurs: 0\n"
     ]
    }
   ],
   "source": [
    "# Create a tensor\n",
    "tensor = torch.arange(10, 100, 10)\n",
    "print(f\"Tensor: {tensor}\")\n",
    "\n",
    "# Returns index of max and min values\n",
    "print(f\"Index where max value occurs: {tensor.argmax()}\")\n",
    "print(f\"Index where min value occurs: {tensor.argmin()}\")"
   ]
  },
  {
   "cell_type": "markdown",
   "metadata": {
    "id": "ZIiKzzrm4iBU"
   },
   "source": [
    "### Reshaping, stacking, squeezing and unsqueezing\n",
    "\n",
    "Often times you'll want to reshape or change the dimensions of your tensors without actually changing the values inside them.\n",
    "\n",
    "To do so, some popular methods are:\n",
    "\n",
    "| Method | One-line description |\n",
    "| ----- | ----- |\n",
    "| [`torch.reshape(input, shape)`](https://pytorch.org/docs/stable/generated/torch.reshape.html#torch.reshape) | Reshapes `input` to `shape` (if compatible), can also use `torch.Tensor.reshape()`. |\n",
    "| [`Tensor.view(shape)`](https://pytorch.org/docs/stable/generated/torch.Tensor.view.html) | Returns a view of the original tensor in a different `shape` but shares the same data as the original tensor. |\n",
    "| [`torch.stack(tensors, dim=0)`](https://pytorch.org/docs/1.9.1/generated/torch.stack.html) | Concatenates a sequence of `tensors` along a new dimension (`dim`), all `tensors` must be same size. |\n",
    "| [`torch.squeeze(input)`](https://pytorch.org/docs/stable/generated/torch.squeeze.html) | Squeezes `input` to remove all the dimenions with value `1`. |\n",
    "| [`torch.unsqueeze(input, dim)`](https://pytorch.org/docs/1.9.1/generated/torch.unsqueeze.html) | Returns `input` with a dimension value of `1` added at `dim`. |\n",
    "| [`torch.permute(input, dims)`](https://pytorch.org/docs/stable/generated/torch.permute.html) | Returns a *view* of the original `input` with its dimensions permuted (rearranged) to `dims`. |\n"
   ]
  },
  {
   "cell_type": "code",
   "execution_count": 51,
   "metadata": {
    "colab": {
     "base_uri": "https://localhost:8080/"
    },
    "id": "Kb1fH8fU4VKn",
    "outputId": "7df5cd51-de88-4bd0-e520-319988eb3776"
   },
   "outputs": [
    {
     "data": {
      "text/plain": [
       "(tensor([1., 2., 3., 4., 5., 6., 7.]), torch.Size([7]))"
      ]
     },
     "execution_count": 51,
     "metadata": {},
     "output_type": "execute_result"
    }
   ],
   "source": [
    "# Create a tensor\n",
    "import torch\n",
    "x = torch.arange(1., 8.)\n",
    "x, x.shape"
   ]
  },
  {
   "cell_type": "markdown",
   "metadata": {
    "id": "9l6vk3q144fJ"
   },
   "source": [
    "Let us add an extra dimension with reshape."
   ]
  },
  {
   "cell_type": "code",
   "execution_count": 52,
   "metadata": {
    "colab": {
     "base_uri": "https://localhost:8080/"
    },
    "id": "rFjWNGaw4zcT",
    "outputId": "ea17927b-8890-4d7c-dbbc-9a84e47323b5"
   },
   "outputs": [
    {
     "data": {
      "text/plain": [
       "(tensor([[1., 2., 3., 4., 5., 6., 7.]]), torch.Size([1, 7]))"
      ]
     },
     "execution_count": 52,
     "metadata": {},
     "output_type": "execute_result"
    }
   ],
   "source": [
    "# Add an extra dimension\n",
    "x_reshaped = x.reshape(1, 7)\n",
    "x_reshaped, x_reshaped.shape"
   ]
  },
  {
   "cell_type": "code",
   "execution_count": 53,
   "metadata": {
    "colab": {
     "base_uri": "https://localhost:8080/"
    },
    "id": "Ooc6CLJECQtG",
    "outputId": "29f71696-175e-4d2d-a730-2558caa4aae6"
   },
   "outputs": [
    {
     "name": "stdout",
     "output_type": "stream",
     "text": [
      "tensor([[100.,   2.,   3.,   4.,   5.,   6.,   7.]])\n",
      "tensor([100.,   2.,   3.,   4.,   5.,   6.,   7.])\n"
     ]
    }
   ],
   "source": [
    "x_reshaped[0][0] =100\n",
    "print(x_reshaped)\n",
    "print(x)"
   ]
  },
  {
   "cell_type": "markdown",
   "metadata": {
    "id": "3lcHmtCy4f8s"
   },
   "source": [
    "We can also change the view with `torch.view()`."
   ]
  },
  {
   "cell_type": "code",
   "execution_count": 54,
   "metadata": {
    "colab": {
     "base_uri": "https://localhost:8080/"
    },
    "id": "ATXpZKBU4rPB",
    "outputId": "73d27dd1-dc91-495f-ecaf-3256e0a77b1a"
   },
   "outputs": [
    {
     "data": {
      "text/plain": [
       "(tensor([[100.,   2.,   3.,   4.,   5.,   6.,   7.]]), torch.Size([1, 7]))"
      ]
     },
     "execution_count": 54,
     "metadata": {},
     "output_type": "execute_result"
    }
   ],
   "source": [
    "# Change view (keeps same data as original but changes view)\n",
    "# See more: https://stackoverflow.com/a/54507446/7900723\n",
    "z = x.view(1, 7)\n",
    "z, z.shape"
   ]
  },
  {
   "cell_type": "markdown",
   "metadata": {
    "id": "XXX_7u4g6Nc3"
   },
   "source": [
    "Remember though, changing the view of a tensor with `torch.view()` really only creates a new view of the *same* tensor.\n",
    "\n",
    "So changing the view changes the original tensor too."
   ]
  },
  {
   "cell_type": "code",
   "execution_count": 55,
   "metadata": {
    "colab": {
     "base_uri": "https://localhost:8080/"
    },
    "id": "yHf7MDxB6GRw",
    "outputId": "687a69dd-378b-43e4-aaeb-78851b6b88a3"
   },
   "outputs": [
    {
     "data": {
      "text/plain": [
       "(tensor([[5., 2., 3., 4., 5., 6., 7.]]), tensor([5., 2., 3., 4., 5., 6., 7.]))"
      ]
     },
     "execution_count": 55,
     "metadata": {},
     "output_type": "execute_result"
    }
   ],
   "source": [
    "# Changing z changes x\n",
    "z[:, 0] = 5\n",
    "z, x"
   ]
  },
  {
   "cell_type": "markdown",
   "metadata": {
    "id": "tgpqOIMp6UNo"
   },
   "source": [
    "If we wanted to stack our new tensor on top of itself five times, we could do so with `torch.stack()`."
   ]
  },
  {
   "cell_type": "code",
   "execution_count": 56,
   "metadata": {
    "colab": {
     "base_uri": "https://localhost:8080/",
     "height": 183
    },
    "id": "1OYrWAtC6SIe",
    "outputId": "349df661-f0d2-48af-da6f-4474283ec8c1"
   },
   "outputs": [
    {
     "data": {
      "text/plain": [
       "tensor([[5., 2., 3., 4., 5., 6., 7.],\n",
       "        [5., 2., 3., 4., 5., 6., 7.],\n",
       "        [5., 2., 3., 4., 5., 6., 7.],\n",
       "        [5., 2., 3., 4., 5., 6., 7.]])"
      ]
     },
     "execution_count": 56,
     "metadata": {},
     "output_type": "execute_result"
    }
   ],
   "source": [
    "# Stack tensors on top of each other\n",
    "x_stacked = torch.stack([x, x, x, x], dim=0) # try changing dim to dim=1 and see what happens\n",
    "x_stacked"
   ]
  },
  {
   "cell_type": "markdown",
   "metadata": {
    "id": "GS4hNhpJ6fkM"
   },
   "source": [
    "How about removing all single dimensions from a tensor?\n",
    "\n",
    "To do so you can use `torch.squeeze()`, (you can remember this as *squeezing* the tensor to only have dimensions over 1)."
   ]
  },
  {
   "cell_type": "code",
   "execution_count": 57,
   "metadata": {
    "colab": {
     "base_uri": "https://localhost:8080/"
    },
    "id": "C8Zh345x6Zdh",
    "outputId": "88a85346-4bf8-4b7d-b5e8-c41c647f7b36"
   },
   "outputs": [
    {
     "name": "stdout",
     "output_type": "stream",
     "text": [
      "Previous tensor: tensor([[5., 2., 3., 4., 5., 6., 7.]])\n",
      "Previous shape: torch.Size([1, 7])\n",
      "\n",
      "New tensor: tensor([5., 2., 3., 4., 5., 6., 7.])\n",
      "New shape: torch.Size([7])\n"
     ]
    }
   ],
   "source": [
    "print(f\"Previous tensor: {x_reshaped}\")\n",
    "print(f\"Previous shape: {x_reshaped.shape}\")\n",
    "\n",
    "# Remove extra dimension from x_reshaped\n",
    "x_squeezed = x_reshaped.squeeze()\n",
    "print(f\"\\nNew tensor: {x_squeezed}\")\n",
    "print(f\"New shape: {x_squeezed.shape}\")"
   ]
  },
  {
   "cell_type": "markdown",
   "metadata": {
    "id": "LQuMV8i-6qFx"
   },
   "source": [
    "You can also rearrange the order of axes values with `torch.permute(input, dims)`, where the input gets turned into a view with new dims."
   ]
  },
  {
   "cell_type": "code",
   "execution_count": 58,
   "metadata": {
    "colab": {
     "base_uri": "https://localhost:8080/"
    },
    "id": "UOHd0xTZ6kEW",
    "outputId": "97a6b0e7-3234-4c9b-a1d1-9bcc704f8425"
   },
   "outputs": [
    {
     "name": "stdout",
     "output_type": "stream",
     "text": [
      "Previous shape: torch.Size([224, 224, 3])\n",
      "New shape: torch.Size([3, 224, 224])\n"
     ]
    }
   ],
   "source": [
    "# Create tensor with specific shape\n",
    "x_original = torch.rand(size=(224, 224, 3))\n",
    "\n",
    "# Permute the original tensor to rearrange the axis order\n",
    "x_permuted = x_original.permute(2, 0, 1) # shifts axis 0->1, 1->2, 2->0\n",
    "\n",
    "print(f\"Previous shape: {x_original.shape}\")\n",
    "print(f\"New shape: {x_permuted.shape}\")"
   ]
  },
  {
   "cell_type": "markdown",
   "metadata": {
    "id": "mPIvex3j6zYC"
   },
   "source": [
    "## Indexing (selecting data from tensors)\n",
    "\n",
    "Sometimes you'll want to select specific data from tensors (for example, only the first column or second row).\n",
    "\n",
    "To do so, you can use indexing. If you've ever done indexing on Python lists or NumPy arrays, indexing in PyTorch with tensors is very similar."
   ]
  },
  {
   "cell_type": "code",
   "execution_count": 59,
   "metadata": {
    "colab": {
     "base_uri": "https://localhost:8080/"
    },
    "id": "MdunFNn56tIV",
    "outputId": "b96ffd8b-4a72-4105-b13d-dd69f3d20b93"
   },
   "outputs": [
    {
     "data": {
      "text/plain": [
       "(tensor([[[ 1,  2,  3],\n",
       "          [ 4,  5,  6],\n",
       "          [ 7,  8,  9]],\n",
       " \n",
       "         [[10, 11, 12],\n",
       "          [13, 14, 15],\n",
       "          [16, 17, 18]]]),\n",
       " torch.Size([2, 3, 3]))"
      ]
     },
     "execution_count": 59,
     "metadata": {},
     "output_type": "execute_result"
    }
   ],
   "source": [
    "# Create a tensor\n",
    "import torch\n",
    "x = torch.arange(1, 19).reshape(2, 3, 3)\n",
    "x, x.shape"
   ]
  },
  {
   "cell_type": "markdown",
   "metadata": {
    "id": "UG7_jE7q9Yv6"
   },
   "source": [
    "Indexing values goes outer dimension -> inner dimension (check out the square brackets)."
   ]
  },
  {
   "cell_type": "code",
   "execution_count": 60,
   "metadata": {
    "colab": {
     "base_uri": "https://localhost:8080/"
    },
    "id": "FZemZnIa9Tai",
    "outputId": "552323a9-db2f-4673-f5ef-b802217952f2"
   },
   "outputs": [
    {
     "name": "stdout",
     "output_type": "stream",
     "text": [
      "First square bracket:\n",
      "tensor([[1, 2, 3],\n",
      "        [4, 5, 6],\n",
      "        [7, 8, 9]])\n",
      "Second square bracket: tensor([1, 2, 3])\n",
      "Third square bracket: 1\n"
     ]
    }
   ],
   "source": [
    "# Let's index bracket by bracket\n",
    "print(f\"First square bracket:\\n{x[0]}\")\n",
    "print(f\"Second square bracket: {x[0][0]}\")\n",
    "print(f\"Third square bracket: {x[0][0][0]}\")"
   ]
  },
  {
   "cell_type": "code",
   "execution_count": 61,
   "metadata": {
    "colab": {
     "base_uri": "https://localhost:8080/"
    },
    "id": "3BiWwx7J9cnA",
    "outputId": "81e3c426-291b-4cfc-d1ad-c681aeb8e2ac"
   },
   "outputs": [
    {
     "data": {
      "text/plain": [
       "tensor([[ 1,  2,  3],\n",
       "        [10, 11, 12]])"
      ]
     },
     "execution_count": 61,
     "metadata": {},
     "output_type": "execute_result"
    }
   ],
   "source": [
    "# Get all values of 0th dimension and the 0 index of 1st dimension\n",
    "x[:, 0]"
   ]
  },
  {
   "cell_type": "code",
   "execution_count": 62,
   "metadata": {
    "colab": {
     "base_uri": "https://localhost:8080/"
    },
    "id": "OhCqOWBT9hso",
    "outputId": "da4aa186-a1a7-438d-c2a2-0be91c64405a"
   },
   "outputs": [
    {
     "data": {
      "text/plain": [
       "tensor([[ 2,  5,  8],\n",
       "        [11, 14, 17]])"
      ]
     },
     "execution_count": 62,
     "metadata": {},
     "output_type": "execute_result"
    }
   ],
   "source": [
    "# Get all values of 0th & 1st dimensions but only index 1 of 2nd dimension\n",
    "x[:, :, 1]"
   ]
  },
  {
   "cell_type": "code",
   "execution_count": 63,
   "metadata": {
    "colab": {
     "base_uri": "https://localhost:8080/"
    },
    "id": "qW4OtpNI9mjy",
    "outputId": "98f81f0a-effc-416d-8099-760de11449b6"
   },
   "outputs": [
    {
     "data": {
      "text/plain": [
       "tensor([ 5, 14])"
      ]
     },
     "execution_count": 63,
     "metadata": {},
     "output_type": "execute_result"
    }
   ],
   "source": [
    "# Get all values of the 0 dimension but only the 1 index value of the 1st and 2nd dimension\n",
    "x[:, 1, 1]"
   ]
  },
  {
   "cell_type": "code",
   "execution_count": 64,
   "metadata": {
    "colab": {
     "base_uri": "https://localhost:8080/"
    },
    "id": "CJOxmohz9pVy",
    "outputId": "94e3a2f0-b7a8-4aeb-f49c-0e8f93c3fe58"
   },
   "outputs": [
    {
     "data": {
      "text/plain": [
       "tensor([1, 2, 3])"
      ]
     },
     "execution_count": 64,
     "metadata": {},
     "output_type": "execute_result"
    }
   ],
   "source": [
    "# Get index 0 of 0th and 1st dimension and all values of 2nd dimension\n",
    "x[0, 0, :] # same as x[0][0]"
   ]
  },
  {
   "cell_type": "markdown",
   "metadata": {
    "id": "t-OlWFZ5EmWs"
   },
   "source": [
    "**<span style=\"color:red\">Exercise 1</span>:** Write the code to\n",
    "- Create a random 2D tensor X with dimension [32,10] (i.e., batch size = 32 and #features = 10).\n",
    "- Create a random weight matrix W with dimension [10,2] and random bias b with dimension [1,2].\n",
    "- Do the computation y = XW + b and pred_probs = softmax(y)."
   ]
  },
  {
   "cell_type": "code",
   "execution_count": 65,
   "metadata": {
    "colab": {
     "base_uri": "https://localhost:8080/"
    },
    "id": "htz2nX8DFnmv",
    "outputId": "4a9b4ab8-4c26-42d5-ca8e-bc8a2e5c5f97"
   },
   "outputs": [
    {
     "name": "stdout",
     "output_type": "stream",
     "text": [
      "tensor([[3.2484, 2.5108],\n",
      "        [2.4661, 1.2575],\n",
      "        [3.1772, 2.3425],\n",
      "        [2.8226, 1.9896],\n",
      "        [2.1510, 1.8768],\n",
      "        [2.4832, 1.7935],\n",
      "        [2.4156, 1.9899],\n",
      "        [2.3966, 2.3059],\n",
      "        [2.3828, 1.5675],\n",
      "        [3.3909, 2.6468],\n",
      "        [2.8037, 2.0466],\n",
      "        [2.4465, 1.6281],\n",
      "        [2.1723, 1.7202],\n",
      "        [2.5217, 2.1832],\n",
      "        [1.9114, 1.6496],\n",
      "        [2.1179, 1.8905],\n",
      "        [2.2284, 1.9126],\n",
      "        [2.7578, 2.3102],\n",
      "        [3.4759, 2.9595],\n",
      "        [2.5138, 2.4074],\n",
      "        [2.8832, 2.3034],\n",
      "        [2.7926, 2.4867],\n",
      "        [2.3205, 1.9768],\n",
      "        [2.0994, 1.9272],\n",
      "        [2.2786, 1.8181],\n",
      "        [1.7300, 1.1714],\n",
      "        [1.8782, 1.4197],\n",
      "        [2.7078, 2.1957],\n",
      "        [2.6455, 1.9903],\n",
      "        [2.6446, 2.3065],\n",
      "        [1.8500, 1.1347],\n",
      "        [2.8235, 2.2504]])\n",
      "tensor([[0.6765, 0.3235],\n",
      "        [0.7701, 0.2299],\n",
      "        [0.6973, 0.3027],\n",
      "        [0.6970, 0.3030],\n",
      "        [0.5681, 0.4319],\n",
      "        [0.6659, 0.3341],\n",
      "        [0.6048, 0.3952],\n",
      "        [0.5227, 0.4773],\n",
      "        [0.6932, 0.3068],\n",
      "        [0.6779, 0.3221],\n",
      "        [0.6807, 0.3193],\n",
      "        [0.6939, 0.3061],\n",
      "        [0.6111, 0.3889],\n",
      "        [0.5838, 0.4162],\n",
      "        [0.5651, 0.4349],\n",
      "        [0.5566, 0.4434],\n",
      "        [0.5783, 0.4217],\n",
      "        [0.6101, 0.3899],\n",
      "        [0.6263, 0.3737],\n",
      "        [0.5266, 0.4734],\n",
      "        [0.6410, 0.3590],\n",
      "        [0.5759, 0.4241],\n",
      "        [0.5851, 0.4149],\n",
      "        [0.5430, 0.4570],\n",
      "        [0.6131, 0.3869],\n",
      "        [0.6361, 0.3639],\n",
      "        [0.6127, 0.3873],\n",
      "        [0.6253, 0.3747],\n",
      "        [0.6582, 0.3418],\n",
      "        [0.5837, 0.4163],\n",
      "        [0.6716, 0.3284],\n",
      "        [0.6395, 0.3605]])\n"
     ]
    }
   ],
   "source": [
    "#Your answer here\n",
    "X = torch.rand(32,10)\n",
    "W = torch.rand(10,2)\n",
    "b = torch.rand(1,2)\n",
    "y = X@W + b\n",
    "pred_probs = torch.nn.functional.softmax(y, dim =1)\n",
    "print(y)\n",
    "print(pred_probs)"
   ]
  },
  {
   "cell_type": "markdown",
   "metadata": {
    "id": "wiHWYcS8EZjd"
   },
   "source": [
    "----\n",
    "\n",
    "**The end**"
   ]
  },
  {
   "cell_type": "code",
   "execution_count": null,
   "metadata": {
    "id": "XOpBP_bi3RIa"
   },
   "outputs": [],
   "source": []
  }
 ],
 "metadata": {
  "colab": {
   "provenance": []
  },
  "kernelspec": {
   "display_name": "Python 3",
   "name": "python3"
  },
  "language_info": {
   "codemirror_mode": {
    "name": "ipython",
    "version": 3
   },
   "file_extension": ".py",
   "mimetype": "text/x-python",
   "name": "python",
   "nbconvert_exporter": "python",
   "pygments_lexer": "ipython3",
   "version": "3.12.7"
  }
 },
 "nbformat": 4,
 "nbformat_minor": 0
}
